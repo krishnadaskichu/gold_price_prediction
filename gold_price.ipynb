{
 "cells": [
  {
   "cell_type": "code",
   "execution_count": 1,
   "metadata": {},
   "outputs": [],
   "source": [
    "import numpy as np \n",
    "import pandas as pd\n",
    "import matplotlib.pyplot as plt\n",
    "import seaborn as sns\n",
    "from sklearn.model_selection import train_test_split\n",
    "from sklearn.ensemble import RandomForestRegressor\n",
    "from sklearn.metrics import accuracy_score\n"
   ]
  },
  {
   "cell_type": "code",
   "execution_count": 2,
   "metadata": {},
   "outputs": [
    {
     "data": {
      "text/html": [
       "<div>\n",
       "<style scoped>\n",
       "    .dataframe tbody tr th:only-of-type {\n",
       "        vertical-align: middle;\n",
       "    }\n",
       "\n",
       "    .dataframe tbody tr th {\n",
       "        vertical-align: top;\n",
       "    }\n",
       "\n",
       "    .dataframe thead th {\n",
       "        text-align: right;\n",
       "    }\n",
       "</style>\n",
       "<table border=\"1\" class=\"dataframe\">\n",
       "  <thead>\n",
       "    <tr style=\"text-align: right;\">\n",
       "      <th></th>\n",
       "      <th>Date</th>\n",
       "      <th>SPX</th>\n",
       "      <th>GLD</th>\n",
       "      <th>USO</th>\n",
       "      <th>SLV</th>\n",
       "      <th>EUR/USD</th>\n",
       "    </tr>\n",
       "  </thead>\n",
       "  <tbody>\n",
       "    <tr>\n",
       "      <th>0</th>\n",
       "      <td>1/2/2008</td>\n",
       "      <td>1447.160034</td>\n",
       "      <td>84.860001</td>\n",
       "      <td>78.470001</td>\n",
       "      <td>15.180</td>\n",
       "      <td>1.471692</td>\n",
       "    </tr>\n",
       "    <tr>\n",
       "      <th>1</th>\n",
       "      <td>1/3/2008</td>\n",
       "      <td>1447.160034</td>\n",
       "      <td>85.570000</td>\n",
       "      <td>78.370003</td>\n",
       "      <td>15.285</td>\n",
       "      <td>1.474491</td>\n",
       "    </tr>\n",
       "    <tr>\n",
       "      <th>2</th>\n",
       "      <td>1/4/2008</td>\n",
       "      <td>1411.630005</td>\n",
       "      <td>85.129997</td>\n",
       "      <td>77.309998</td>\n",
       "      <td>15.167</td>\n",
       "      <td>1.475492</td>\n",
       "    </tr>\n",
       "    <tr>\n",
       "      <th>3</th>\n",
       "      <td>1/7/2008</td>\n",
       "      <td>1416.180054</td>\n",
       "      <td>84.769997</td>\n",
       "      <td>75.500000</td>\n",
       "      <td>15.053</td>\n",
       "      <td>1.468299</td>\n",
       "    </tr>\n",
       "    <tr>\n",
       "      <th>4</th>\n",
       "      <td>1/8/2008</td>\n",
       "      <td>1390.189941</td>\n",
       "      <td>86.779999</td>\n",
       "      <td>76.059998</td>\n",
       "      <td>15.590</td>\n",
       "      <td>1.557099</td>\n",
       "    </tr>\n",
       "  </tbody>\n",
       "</table>\n",
       "</div>"
      ],
      "text/plain": [
       "       Date          SPX        GLD        USO     SLV   EUR/USD\n",
       "0  1/2/2008  1447.160034  84.860001  78.470001  15.180  1.471692\n",
       "1  1/3/2008  1447.160034  85.570000  78.370003  15.285  1.474491\n",
       "2  1/4/2008  1411.630005  85.129997  77.309998  15.167  1.475492\n",
       "3  1/7/2008  1416.180054  84.769997  75.500000  15.053  1.468299\n",
       "4  1/8/2008  1390.189941  86.779999  76.059998  15.590  1.557099"
      ]
     },
     "execution_count": 2,
     "metadata": {},
     "output_type": "execute_result"
    }
   ],
   "source": [
    "gold_data=pd.read_csv('D:\\gold_price\\gld_price_data.csv')\n",
    "gold_data.head()"
   ]
  },
  {
   "cell_type": "code",
   "execution_count": 3,
   "metadata": {},
   "outputs": [
    {
     "data": {
      "text/plain": [
       "(2290, 6)"
      ]
     },
     "execution_count": 3,
     "metadata": {},
     "output_type": "execute_result"
    }
   ],
   "source": [
    "gold_data.shape"
   ]
  },
  {
   "cell_type": "code",
   "execution_count": 4,
   "metadata": {},
   "outputs": [
    {
     "name": "stdout",
     "output_type": "stream",
     "text": [
      "<class 'pandas.core.frame.DataFrame'>\n",
      "RangeIndex: 2290 entries, 0 to 2289\n",
      "Data columns (total 6 columns):\n",
      " #   Column   Non-Null Count  Dtype  \n",
      "---  ------   --------------  -----  \n",
      " 0   Date     2290 non-null   object \n",
      " 1   SPX      2290 non-null   float64\n",
      " 2   GLD      2290 non-null   float64\n",
      " 3   USO      2290 non-null   float64\n",
      " 4   SLV      2290 non-null   float64\n",
      " 5   EUR/USD  2290 non-null   float64\n",
      "dtypes: float64(5), object(1)\n",
      "memory usage: 107.5+ KB\n"
     ]
    }
   ],
   "source": [
    "gold_data.info()"
   ]
  },
  {
   "cell_type": "code",
   "execution_count": 5,
   "metadata": {},
   "outputs": [
    {
     "data": {
      "text/plain": [
       "Date       0\n",
       "SPX        0\n",
       "GLD        0\n",
       "USO        0\n",
       "SLV        0\n",
       "EUR/USD    0\n",
       "dtype: int64"
      ]
     },
     "execution_count": 5,
     "metadata": {},
     "output_type": "execute_result"
    }
   ],
   "source": [
    "gold_data.isnull().sum()"
   ]
  },
  {
   "cell_type": "code",
   "execution_count": 6,
   "metadata": {},
   "outputs": [],
   "source": [
    "gold_data['Date'] = pd.to_datetime(gold_data['Date'])\n",
    "\n",
    "\n",
    "correlation = gold_data.drop(columns=['Date']).corr()"
   ]
  },
  {
   "cell_type": "code",
   "execution_count": 7,
   "metadata": {},
   "outputs": [
    {
     "data": {
      "text/html": [
       "<div>\n",
       "<style scoped>\n",
       "    .dataframe tbody tr th:only-of-type {\n",
       "        vertical-align: middle;\n",
       "    }\n",
       "\n",
       "    .dataframe tbody tr th {\n",
       "        vertical-align: top;\n",
       "    }\n",
       "\n",
       "    .dataframe thead th {\n",
       "        text-align: right;\n",
       "    }\n",
       "</style>\n",
       "<table border=\"1\" class=\"dataframe\">\n",
       "  <thead>\n",
       "    <tr style=\"text-align: right;\">\n",
       "      <th></th>\n",
       "      <th>Date</th>\n",
       "      <th>SPX</th>\n",
       "      <th>GLD</th>\n",
       "      <th>USO</th>\n",
       "      <th>SLV</th>\n",
       "      <th>EUR/USD</th>\n",
       "    </tr>\n",
       "  </thead>\n",
       "  <tbody>\n",
       "    <tr>\n",
       "      <th>count</th>\n",
       "      <td>2290</td>\n",
       "      <td>2290.000000</td>\n",
       "      <td>2290.000000</td>\n",
       "      <td>2290.000000</td>\n",
       "      <td>2290.000000</td>\n",
       "      <td>2290.000000</td>\n",
       "    </tr>\n",
       "    <tr>\n",
       "      <th>mean</th>\n",
       "      <td>2013-03-17 08:23:41.135371008</td>\n",
       "      <td>1654.315776</td>\n",
       "      <td>122.732875</td>\n",
       "      <td>31.842221</td>\n",
       "      <td>20.084997</td>\n",
       "      <td>1.283653</td>\n",
       "    </tr>\n",
       "    <tr>\n",
       "      <th>min</th>\n",
       "      <td>2008-01-02 00:00:00</td>\n",
       "      <td>676.530029</td>\n",
       "      <td>70.000000</td>\n",
       "      <td>7.960000</td>\n",
       "      <td>8.850000</td>\n",
       "      <td>1.039047</td>\n",
       "    </tr>\n",
       "    <tr>\n",
       "      <th>25%</th>\n",
       "      <td>2010-08-20 00:00:00</td>\n",
       "      <td>1239.874969</td>\n",
       "      <td>109.725000</td>\n",
       "      <td>14.380000</td>\n",
       "      <td>15.570000</td>\n",
       "      <td>1.171313</td>\n",
       "    </tr>\n",
       "    <tr>\n",
       "      <th>50%</th>\n",
       "      <td>2013-03-13 12:00:00</td>\n",
       "      <td>1551.434998</td>\n",
       "      <td>120.580002</td>\n",
       "      <td>33.869999</td>\n",
       "      <td>17.268500</td>\n",
       "      <td>1.303297</td>\n",
       "    </tr>\n",
       "    <tr>\n",
       "      <th>75%</th>\n",
       "      <td>2015-10-25 00:00:00</td>\n",
       "      <td>2073.010070</td>\n",
       "      <td>132.840004</td>\n",
       "      <td>37.827501</td>\n",
       "      <td>22.882500</td>\n",
       "      <td>1.369971</td>\n",
       "    </tr>\n",
       "    <tr>\n",
       "      <th>max</th>\n",
       "      <td>2018-05-16 00:00:00</td>\n",
       "      <td>2872.870117</td>\n",
       "      <td>184.589996</td>\n",
       "      <td>117.480003</td>\n",
       "      <td>47.259998</td>\n",
       "      <td>1.598798</td>\n",
       "    </tr>\n",
       "    <tr>\n",
       "      <th>std</th>\n",
       "      <td>NaN</td>\n",
       "      <td>519.111540</td>\n",
       "      <td>23.283346</td>\n",
       "      <td>19.523517</td>\n",
       "      <td>7.092566</td>\n",
       "      <td>0.131547</td>\n",
       "    </tr>\n",
       "  </tbody>\n",
       "</table>\n",
       "</div>"
      ],
      "text/plain": [
       "                                Date          SPX          GLD          USO  \\\n",
       "count                           2290  2290.000000  2290.000000  2290.000000   \n",
       "mean   2013-03-17 08:23:41.135371008  1654.315776   122.732875    31.842221   \n",
       "min              2008-01-02 00:00:00   676.530029    70.000000     7.960000   \n",
       "25%              2010-08-20 00:00:00  1239.874969   109.725000    14.380000   \n",
       "50%              2013-03-13 12:00:00  1551.434998   120.580002    33.869999   \n",
       "75%              2015-10-25 00:00:00  2073.010070   132.840004    37.827501   \n",
       "max              2018-05-16 00:00:00  2872.870117   184.589996   117.480003   \n",
       "std                              NaN   519.111540    23.283346    19.523517   \n",
       "\n",
       "               SLV      EUR/USD  \n",
       "count  2290.000000  2290.000000  \n",
       "mean     20.084997     1.283653  \n",
       "min       8.850000     1.039047  \n",
       "25%      15.570000     1.171313  \n",
       "50%      17.268500     1.303297  \n",
       "75%      22.882500     1.369971  \n",
       "max      47.259998     1.598798  \n",
       "std       7.092566     0.131547  "
      ]
     },
     "execution_count": 7,
     "metadata": {},
     "output_type": "execute_result"
    }
   ],
   "source": [
    "gold_data.describe()"
   ]
  },
  {
   "cell_type": "code",
   "execution_count": 8,
   "metadata": {},
   "outputs": [],
   "source": [
    "correlation = gold_data.corr()"
   ]
  },
  {
   "cell_type": "code",
   "execution_count": 9,
   "metadata": {},
   "outputs": [
    {
     "data": {
      "text/plain": [
       "<Axes: >"
      ]
     },
     "execution_count": 9,
     "metadata": {},
     "output_type": "execute_result"
    },
    {
     "data": {
      "image/png": "[encoded data removed]",
      "text/plain": [
       "<Figure size 800x800 with 2 Axes>"
      ]
     },
     "metadata": {},
     "output_type": "display_data"
    }
   ],
   "source": [
    "plt.figure(figsize=(8,8))\n",
    "sns.heatmap(correlation,cbar=True,square=True,fmt='.1f',annot=True,annot_kws={'size':8},cmap='Blues')"
   ]
  },
  {
   "cell_type": "code",
   "execution_count": 10,
   "metadata": {},
   "outputs": [
    {
     "name": "stdout",
     "output_type": "stream",
     "text": [
      "Date       0.209118\n",
      "SPX        0.049345\n",
      "GLD        1.000000\n",
      "USO       -0.186360\n",
      "SLV        0.866632\n",
      "EUR/USD   -0.024375\n",
      "Name: GLD, dtype: float64\n"
     ]
    }
   ],
   "source": [
    "print(correlation['GLD'])"
   ]
  },
  {
   "cell_type": "code",
   "execution_count": 11,
   "metadata": {},
   "outputs": [
    {
     "data": {
      "text/plain": [
       "<seaborn.axisgrid.FacetGrid at 0x1c58e871590>"
      ]
     },
     "execution_count": 11,
     "metadata": {},
     "output_type": "execute_result"
    },
    {
     "data": {
      "image/png": "[encoded data removed]",
      "text/plain": [
       "<Figure size 500x500 with 1 Axes>"
      ]
     },
     "metadata": {},
     "output_type": "display_data"
    }
   ],
   "source": [
    "sns.displot(gold_data['GLD'])"
   ]
  },
  {
   "cell_type": "code",
   "execution_count": 12,
   "metadata": {},
   "outputs": [],
   "source": [
    "X=gold_data.drop(['Date','GLD'],axis=1)\n",
    "y=gold_data['GLD']"
   ]
  },
  {
   "cell_type": "code",
   "execution_count": 13,
   "metadata": {},
   "outputs": [
    {
     "name": "stdout",
     "output_type": "stream",
     "text": [
      "              SPX        USO      SLV   EUR/USD\n",
      "0     1447.160034  78.470001  15.1800  1.471692\n",
      "1     1447.160034  78.370003  15.2850  1.474491\n",
      "2     1411.630005  77.309998  15.1670  1.475492\n",
      "3     1416.180054  75.500000  15.0530  1.468299\n",
      "4     1390.189941  76.059998  15.5900  1.557099\n",
      "...           ...        ...      ...       ...\n",
      "2285  2671.919922  14.060000  15.5100  1.186789\n",
      "2286  2697.790039  14.370000  15.5300  1.184722\n",
      "2287  2723.070068  14.410000  15.7400  1.191753\n",
      "2288  2730.129883  14.380000  15.5600  1.193118\n",
      "2289  2725.780029  14.405800  15.4542  1.182033\n",
      "\n",
      "[2290 rows x 4 columns]\n"
     ]
    }
   ],
   "source": [
    "print(X)"
   ]
  },
  {
   "cell_type": "code",
   "execution_count": 14,
   "metadata": {},
   "outputs": [
    {
     "name": "stdout",
     "output_type": "stream",
     "text": [
      "0        84.860001\n",
      "1        85.570000\n",
      "2        85.129997\n",
      "3        84.769997\n",
      "4        86.779999\n",
      "           ...    \n",
      "2285    124.589996\n",
      "2286    124.330002\n",
      "2287    125.180000\n",
      "2288    124.489998\n",
      "2289    122.543800\n",
      "Name: GLD, Length: 2290, dtype: float64\n"
     ]
    }
   ],
   "source": [
    "print(y)"
   ]
  },
  {
   "cell_type": "code",
   "execution_count": 15,
   "metadata": {},
   "outputs": [],
   "source": [
    "X_train, X_test, y_train, y_test =  train_test_split(X,y,test_size=0.2,random_state=2)\n"
   ]
  },
  {
   "cell_type": "code",
   "execution_count": 16,
   "metadata": {},
   "outputs": [
    {
     "data": {
      "text/html": [
       "<style>#sk-container-id-1 {color: black;background-color: white;}#sk-container-id-1 pre{padding: 0;}#sk-container-id-1 div.sk-toggleable {background-color: white;}#sk-container-id-1 label.sk-toggleable__label {cursor: pointer;display: block;width: 100%;margin-bottom: 0;padding: 0.3em;box-sizing: border-box;text-align: center;}#sk-container-id-1 label.sk-toggleable__label-arrow:before {content: \"▸\";float: left;margin-right: 0.25em;color: #696969;}#sk-container-id-1 label.sk-toggleable__label-arrow:hover:before {color: black;}#sk-container-id-1 div.sk-estimator:hover label.sk-toggleable__label-arrow:before {color: black;}#sk-container-id-1 div.sk-toggleable__content {max-height: 0;max-width: 0;overflow: hidden;text-align: left;background-color: #f0f8ff;}#sk-container-id-1 div.sk-toggleable__content pre {margin: 0.2em;color: black;border-radius: 0.25em;background-color: #f0f8ff;}#sk-container-id-1 input.sk-toggleable__control:checked~div.sk-toggleable__content {max-height: 200px;max-width: 100%;overflow: auto;}#sk-container-id-1 input.sk-toggleable__control:checked~label.sk-toggleable__label-arrow:before {content: \"▾\";}#sk-container-id-1 div.sk-estimator input.sk-toggleable__control:checked~label.sk-toggleable__label {background-color: #d4ebff;}#sk-container-id-1 div.sk-label input.sk-toggleable__control:checked~label.sk-toggleable__label {background-color: #d4ebff;}#sk-container-id-1 input.sk-hidden--visually {border: 0;clip: rect(1px 1px 1px 1px);clip: rect(1px, 1px, 1px, 1px);height: 1px;margin: -1px;overflow: hidden;padding: 0;position: absolute;width: 1px;}#sk-container-id-1 div.sk-estimator {font-family: monospace;background-color: #f0f8ff;border: 1px dotted black;border-radius: 0.25em;box-sizing: border-box;margin-bottom: 0.5em;}#sk-container-id-1 div.sk-estimator:hover {background-color: #d4ebff;}#sk-container-id-1 div.sk-parallel-item::after {content: \"\";width: 100%;border-bottom: 1px solid gray;flex-grow: 1;}#sk-container-id-1 div.sk-label:hover label.sk-toggleable__label {background-color: #d4ebff;}#sk-container-id-1 div.sk-serial::before {content: \"\";position: absolute;border-left: 1px solid gray;box-sizing: border-box;top: 0;bottom: 0;left: 50%;z-index: 0;}#sk-container-id-1 div.sk-serial {display: flex;flex-direction: column;align-items: center;background-color: white;padding-right: 0.2em;padding-left: 0.2em;position: relative;}#sk-container-id-1 div.sk-item {position: relative;z-index: 1;}#sk-container-id-1 div.sk-parallel {display: flex;align-items: stretch;justify-content: center;background-color: white;position: relative;}#sk-container-id-1 div.sk-item::before, #sk-container-id-1 div.sk-parallel-item::before {content: \"\";position: absolute;border-left: 1px solid gray;box-sizing: border-box;top: 0;bottom: 0;left: 50%;z-index: -1;}#sk-container-id-1 div.sk-parallel-item {display: flex;flex-direction: column;z-index: 1;position: relative;background-color: white;}#sk-container-id-1 div.sk-parallel-item:first-child::after {align-self: flex-end;width: 50%;}#sk-container-id-1 div.sk-parallel-item:last-child::after {align-self: flex-start;width: 50%;}#sk-container-id-1 div.sk-parallel-item:only-child::after {width: 0;}#sk-container-id-1 div.sk-dashed-wrapped {border: 1px dashed gray;margin: 0 0.4em 0.5em 0.4em;box-sizing: border-box;padding-bottom: 0.4em;background-color: white;}#sk-container-id-1 div.sk-label label {font-family: monospace;font-weight: bold;display: inline-block;line-height: 1.2em;}#sk-container-id-1 div.sk-label-container {text-align: center;}#sk-container-id-1 div.sk-container {/* jupyter's `normalize.less` sets `[hidden] { display: none; }` but bootstrap.min.css set `[hidden] { display: none !important; }` so we also need the `!important` here to be able to override the default hidden behavior on the sphinx rendered scikit-learn.org. See: https://github.com/scikit-learn/scikit-learn/issues/21755 */display: inline-block !important;position: relative;}#sk-container-id-1 div.sk-text-repr-fallback {display: none;}</style><div id=\"sk-container-id-1\" class=\"sk-top-container\"><div class=\"sk-text-repr-fallback\"><pre>RandomForestRegressor()</pre><b>In a Jupyter environment, please rerun this cell to show the HTML representation or trust the notebook. <br />On GitHub, the HTML representation is unable to render, please try loading this page with nbviewer.org.</b></div><div class=\"sk-container\" hidden><div class=\"sk-item\"><div class=\"sk-estimator sk-toggleable\"><input class=\"sk-toggleable__control sk-hidden--visually\" id=\"sk-estimator-id-1\" type=\"checkbox\" checked><label for=\"sk-estimator-id-1\" class=\"sk-toggleable__label sk-toggleable__label-arrow\">RandomForestRegressor</label><div class=\"sk-toggleable__content\"><pre>RandomForestRegressor()</pre></div></div></div></div></div>"
      ],
      "text/plain": [
       "RandomForestRegressor()"
      ]
     },
     "execution_count": 16,
     "metadata": {},
     "output_type": "execute_result"
    }
   ],
   "source": [
    "regressor = RandomForestRegressor(n_estimators=100) \n",
    "\n",
    "regressor.fit(X_train,y_train)"
   ]
  },
  {
   "cell_type": "code",
   "execution_count": 17,
   "metadata": {},
   "outputs": [],
   "source": [
    "test_data_prediction = regressor.predict(X_test)"
   ]
  },
  {
   "cell_type": "code",
   "execution_count": 18,
   "metadata": {},
   "outputs": [
    {
     "name": "stdout",
     "output_type": "stream",
     "text": [
      "[168.73949981  81.89459993 116.0333005  127.58800052 120.76340137\n",
      " 154.68849726 150.54339839 126.05460046 117.47399861 125.88490093\n",
      " 116.48520118 172.18100049 141.99859856 167.93789884 115.2692999\n",
      " 117.87570031 138.45330262 169.94870139 159.70500343 156.64649857\n",
      " 155.24010029 125.61819987 176.41540019 156.95260348 125.28430001\n",
      "  93.93929979  77.27390014 120.44880006 119.10499955 167.47329911\n",
      "  88.14990074 125.29560022  91.05380044 117.74860031 121.12159926\n",
      " 136.59180154 115.54720111 115.33740082 147.27379988 107.29730057\n",
      " 104.35560254  87.0528978  126.46170042 117.84359954 151.84989993\n",
      " 119.56030023 108.37129996 108.06409829  93.21950072 127.08699773\n",
      "  74.79540066 113.76419921 121.23400038 111.36229963 118.77929883\n",
      " 120.45819958 159.04329906 167.40900143 146.89369672  85.74239869\n",
      "  94.34820052  86.78959873  90.54939989 119.07490074 126.41120055\n",
      " 127.43860009 170.31409982 122.2988994  117.4378992   98.62270041\n",
      " 168.69720099 143.04759831 132.32510311 121.22460219 120.62479959\n",
      " 119.80400064 114.46550177 118.28250069 107.05330104 128.0655014\n",
      " 114.05359975 107.72649934 116.73900045 119.65559877  88.66780029\n",
      "  88.07849854 146.68200209 127.26180016 113.54420047 109.9194987\n",
      " 108.18329925  76.73479898 169.41210143 114.03609914 121.56669877\n",
      " 128.0025013  154.93089792  91.85520005 135.94090177 159.02380318\n",
      " 125.31920099 125.18770049 130.76530259 114.84820091 119.73509952\n",
      "  92.22089985 110.49999864 169.07619961 157.09259886 114.15299961\n",
      " 106.77660128  80.22309943 113.24230038 125.76920083 107.03719954\n",
      " 119.22710101 155.62890278 159.44459893 119.65130003 134.96270291\n",
      " 101.22670001 117.40699812 119.13710042 112.82680081 102.74629946\n",
      " 159.53119815  98.9760002  148.21729991 125.49020074 170.13989903\n",
      " 125.65589924 127.34749738 127.42960181 113.63789942 112.99960066\n",
      " 123.48289945 102.24849891  89.55699971 124.48899969 101.64199936\n",
      " 107.05409867 113.7441004  117.1492003   99.52939955 121.7882006\n",
      " 163.32079956  87.31289891 106.56459963 116.99330115 127.77090136\n",
      " 124.24140047  80.56109934 120.24400063 157.62619898  87.85699951\n",
      " 110.30339893 119.03399916 172.3043981  102.9439993  105.80290028\n",
      " 122.90590042 158.05259864  87.4778983   93.61010048 112.88170022\n",
      " 177.00689976 114.33519946 119.11130034  94.97490117 125.92050045\n",
      " 166.0193017  114.78120038 116.67540115  88.10959874 149.13440171\n",
      " 120.51739956  89.46189975 111.87740002 117.0113002  118.91820133\n",
      "  88.13799914  94.32990032 117.12910044 118.67730172 120.14010033\n",
      " 126.7627985  121.90960011 151.82509964 165.64600099 118.55209979\n",
      " 120.44330102 150.54170085 118.53349901 172.69499853 105.52309911\n",
      " 105.01550071 149.83850175 113.71050074 124.74370139 148.43629963\n",
      " 119.53590121 115.43220038 112.75509993 113.52390205 141.06070075\n",
      " 117.98149759 102.9464005  115.87370113 103.75860182  99.25020042\n",
      " 117.08510084  90.53800021  91.31560043 153.42389894 102.74009987\n",
      " 154.76870095 114.4353019  138.21000155  90.09889817 115.52419941\n",
      " 114.80499976 122.96840053 121.73440002 165.42700146  92.91949947\n",
      " 135.18950054 121.40579916 120.56860099 104.53550041 140.7235033\n",
      " 121.48529921 116.56180046 113.51940071 127.16729803 122.82649965\n",
      " 125.75669927 121.26420039  86.91959907 132.40910187 145.32410167\n",
      "  92.66959941 159.37099982 158.49860163 126.26019972 165.11329886\n",
      " 108.94059967 109.5781011  103.70409847  94.37500048 127.81980257\n",
      " 106.91030053 162.39599997 121.84760046 131.96740044 130.9438022\n",
      " 160.26179976  90.0670984  175.37910194 128.43129978 126.78799886\n",
      "  86.62249973 124.49739944 149.99359705  89.54500009 106.86489976\n",
      " 109.03519987  84.34559882 136.0821998  154.78640229 138.45890397\n",
      "  74.29890011 151.86140114 125.74549955 126.72469987 127.63219856\n",
      " 108.51699909 156.35669934 114.53690086 117.17560134 125.31389914\n",
      " 154.09590094 121.33330034 156.42469897  92.91620032 125.45970137\n",
      " 125.87650057  87.78280062  92.04559904 126.24409946 128.36680364\n",
      " 113.23570083 117.70269758 120.78780039 127.23799828 119.33220104\n",
      " 137.05170201  93.89549897 119.83940027 113.19530113  94.24359925\n",
      " 108.6775996   86.89939932 109.20479877  89.36499968  92.44800006\n",
      " 131.97210309 162.19450112  89.07220022 119.53230088 133.4832017\n",
      " 123.99540038 128.26420203 102.00949855  88.79549865 131.22640012\n",
      " 120.03000035 109.03769987 168.50070088 115.39700034  86.70899869\n",
      " 118.95300085  91.0692992  162.0068999  116.46170053 121.53749993\n",
      " 159.87139811 120.04569942 112.8092992  108.48439869 126.78730026\n",
      "  76.0605005  103.02919972 127.68800238 121.83019938  92.60020018\n",
      " 132.03950076 118.26890134 115.84099979 154.79280239 158.6269005\n",
      " 110.21259954 155.02969766 119.17420076 160.5431009  118.51070002\n",
      " 157.93209879 115.10709968 116.48180025 148.55959841 114.66940133\n",
      " 125.9719983  166.83680024 117.59759988 125.31709922 153.29730279\n",
      " 153.4534028  132.09620024 114.79800078 121.2738019  124.99450062\n",
      "  89.64980051 123.14810005 154.90390211 111.62650025 106.6039997\n",
      " 161.70510135 118.72499995 165.70499998 134.31000126 114.90179964\n",
      " 152.84319865 168.68610076 115.03110021 114.04490112 157.37169926\n",
      "  85.46839872 127.18080067 128.07050022 128.95220012 124.13050075\n",
      " 123.94480031  90.74880073 153.44419997  97.0736999  138.2562\n",
      "  89.21199909 107.67299944 115.24240056 112.72470088 123.71869957\n",
      "  91.4388987  125.37320125 162.40349895 119.91149903 165.13230051\n",
      " 126.76449831 112.32539997 127.47089945  94.81259877  90.92729955\n",
      " 103.36469895 120.81659992  83.18439934 126.28669934 160.56180476\n",
      " 117.19680105 118.44419977 119.78549991 122.86399947 120.18880151\n",
      " 121.54040011 118.32550026 106.93489951 148.28549996 126.13759914\n",
      " 115.77370056  73.93669997 127.87900078 154.75790072 122.68629977\n",
      " 125.58670048  88.84010034 103.7503991  124.99850023 120.35810005\n",
      "  73.27800076 151.49999935 121.05910086 104.80790005  86.29599789\n",
      " 115.25989911 172.22649862 119.72860032 159.77239722 113.21819943\n",
      " 121.42430024 118.51080105  95.92619996 118.6144002  125.97880075\n",
      " 118.50929973  96.18100097 153.90580161 122.08880006 147.43319955\n",
      " 159.057602   113.79210013 122.5153995  149.95069788 127.55180007\n",
      " 165.76750112 135.53440003 119.9983993  167.45229866 108.3697996\n",
      " 121.81799855 139.14560123 107.1884991 ]\n"
     ]
    }
   ],
   "source": [
    "print(test_data_prediction)"
   ]
  },
  {
   "cell_type": "code",
   "execution_count": 19,
   "metadata": {},
   "outputs": [
    {
     "name": "stdout",
     "output_type": "stream",
     "text": [
      "R squared error :  0.9886254754045677\n"
     ]
    }
   ],
   "source": [
    "from sklearn.metrics import r2_score\n",
    "error_score = r2_score(y_test, test_data_prediction)\n",
    "print(\"R squared error : \", error_score)"
   ]
  },
  {
   "cell_type": "code",
   "execution_count": null,
   "metadata": {},
   "outputs": [],
   "source": []
  }
 ],
 "metadata": {
  "kernelspec": {
   "display_name": "Python 3",
   "language": "python",
   "name": "python3"
  },
  "language_info": {
   "codemirror_mode": {
    "name": "ipython",
    "version": 3
   },
   "file_extension": ".py",
   "mimetype": "text/x-python",
   "name": "python",
   "nbconvert_exporter": "python",
   "pygments_lexer": "ipython3",
   "version": "3.11.7"
  }
 },
 "nbformat": 4,
 "nbformat_minor": 2
}
